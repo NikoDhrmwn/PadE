{
  "cells": [
    {
      "cell_type": "markdown",
      "metadata": {
        "id": "view-in-github",
        "colab_type": "text"
      },
      "source": [
        "<a href=\"https://colab.research.google.com/github/NikoDhrmwn/PadE/blob/main/PadE_model.ipynb\" target=\"_parent\"><img src=\"https://colab.research.google.com/assets/colab-badge.svg\" alt=\"Open In Colab\"/></a>"
      ]
    },
    {
      "cell_type": "code",
      "execution_count": 1,
      "metadata": {
        "id": "F2MSh4VvkK03"
      },
      "outputs": [],
      "source": [
        "import matplotlib.pyplot as plt\n",
        "import tensorflow as tf\n",
        "import numpy as np\n",
        "import pandas as pd\n",
        "import os\n",
        "\n",
        "from tensorflow.keras.utils import to_categorical\n",
        "from tensorflow.keras.preprocessing.image import load_img, img_to_array\n",
        "from tensorflow.keras.preprocessing.image import ImageDataGenerator\n",
        "from sklearn.model_selection import train_test_split"
      ]
    },
    {
      "cell_type": "code",
      "execution_count": 2,
      "metadata": {
        "id": "tmAbO_OQsT2X"
      },
      "outputs": [],
      "source": [
        "train_dir=\"/content/drive/MyDrive/rice-leaf-desease/training\"\n",
        "val_dir=\"/content/drive/MyDrive/rice-leaf-desease/validation\"\n",
        "Labels=[]\n",
        "\n",
        "for file in os.listdir(train_dir):\n",
        "    Labels+=[file]\n",
        "\n",
        "Label=[]\n",
        "\n",
        "for i in range(len(Labels)):\n",
        "    Label+=[i]\n",
        "    \n",
        "mapping = dict(zip(Labels, Label)) \n",
        "reverse_mapping = dict(zip(Label, Labels)) \n",
        "\n",
        "def mapper(value):\n",
        "    return reverse_mapping[value]\n",
        "\n",
        "dataset=[]\n",
        "valset=[]\n",
        "count=0\n",
        "for file in os.listdir(train_dir):\n",
        "    path=os.path.join(train_dir,file)\n",
        "    t=0\n",
        "    for im in os.listdir(path):\n",
        "        image=load_img(os.path.join(path,im), grayscale=False, color_mode='rgb', target_size=(32,32))\n",
        "        image=img_to_array(image)\n",
        "        image=image/255.0\n",
        "        dataset+=[[image,count]]\n",
        "        t+=1\n",
        "    count=count+1\n",
        "count=0\n",
        "for file in os.listdir(val_dir):\n",
        "    path=os.path.join(val_dir,file)\n",
        "    t=0\n",
        "    for im in os.listdir(path):\n",
        "        image=load_img(os.path.join(path,im), grayscale=False, color_mode='rgb', target_size=(32,32))\n",
        "        image=img_to_array(image)\n",
        "        image=image/255.0\n",
        "        valset+=[[image,count]]\n",
        "        t+=1\n",
        "    count=count+1"
      ]
    },
    {
      "cell_type": "code",
      "execution_count": 3,
      "metadata": {
        "colab": {
          "base_uri": "https://localhost:8080/"
        },
        "id": "7BD-wSxnmn1m",
        "outputId": "e6d67ee0-8b50-43c9-f30b-5aafb27fade5"
      },
      "outputs": [
        {
          "output_type": "stream",
          "name": "stdout",
          "text": [
            "(12640, 32, 32, 3)\n",
            "(3160, 32, 32, 3)\n",
            "(12640, 4)\n",
            "(3160, 4)\n"
          ]
        }
      ],
      "source": [
        "data,labels0=zip(*dataset)\n",
        "test,testlabels0=zip(*valset)\n",
        "labels1=to_categorical(labels0)\n",
        "labels=np.array(labels1)\n",
        "data=np.array(data)\n",
        "test=np.array(test)\n",
        "trainx,testx,trainy,testy=train_test_split(data,labels,test_size=0.2,random_state=44)\n",
        "\n",
        "print(trainx.shape)\n",
        "print(testx.shape)\n",
        "print(trainy.shape)\n",
        "print(testy.shape)"
      ]
    },
    {
      "cell_type": "code",
      "execution_count": 4,
      "metadata": {
        "id": "zizbeGKMr9O-"
      },
      "outputs": [],
      "source": [
        "datagen = ImageDataGenerator(horizontal_flip=True,vertical_flip=True,rotation_range=20,zoom_range=0.1,\n",
        "                             width_shift_range=0.2,height_shift_range=0.2,shear_range=0.2,fill_mode=\"nearest\")"
      ]
    },
    {
      "cell_type": "code",
      "execution_count": 5,
      "metadata": {
        "colab": {
          "base_uri": "https://localhost:8080/"
        },
        "id": "Qj35Lc9OvL7n",
        "outputId": "e4e08d76-695a-4c96-b55b-75efa13547c8"
      },
      "outputs": [
        {
          "output_type": "stream",
          "name": "stdout",
          "text": [
            "Model: \"sequential\"\n",
            "_________________________________________________________________\n",
            " Layer (type)                Output Shape              Param #   \n",
            "=================================================================\n",
            " conv2d (Conv2D)             (None, 30, 30, 16)        448       \n",
            "                                                                 \n",
            " max_pooling2d (MaxPooling2D  (None, 15, 15, 16)       0         \n",
            " )                                                               \n",
            "                                                                 \n",
            " conv2d_1 (Conv2D)           (None, 13, 13, 32)        4640      \n",
            "                                                                 \n",
            " max_pooling2d_1 (MaxPooling  (None, 6, 6, 32)         0         \n",
            " 2D)                                                             \n",
            "                                                                 \n",
            " flatten (Flatten)           (None, 1152)              0         \n",
            "                                                                 \n",
            " dense (Dense)               (None, 128)               147584    \n",
            "                                                                 \n",
            " dropout (Dropout)           (None, 128)               0         \n",
            "                                                                 \n",
            " dense_1 (Dense)             (None, 256)               33024     \n",
            "                                                                 \n",
            " dropout_1 (Dropout)         (None, 256)               0         \n",
            "                                                                 \n",
            " dense_2 (Dense)             (None, 512)               131584    \n",
            "                                                                 \n",
            " dropout_2 (Dropout)         (None, 512)               0         \n",
            "                                                                 \n",
            " dense_3 (Dense)             (None, 1024)              525312    \n",
            "                                                                 \n",
            " dropout_3 (Dropout)         (None, 1024)              0         \n",
            "                                                                 \n",
            " dense_4 (Dense)             (None, 4)                 4100      \n",
            "                                                                 \n",
            "=================================================================\n",
            "Total params: 846,692\n",
            "Trainable params: 846,692\n",
            "Non-trainable params: 0\n",
            "_________________________________________________________________\n"
          ]
        }
      ],
      "source": [
        "model = tf.keras.models.Sequential([ \n",
        "    tf.keras.layers.Conv2D(16, (3, 3), activation='relu', input_shape=(32, 32, 3)),\n",
        "    tf.keras.layers.MaxPooling2D(2, 2),\n",
        "    tf.keras.layers.Conv2D(32, (3, 3), activation='relu'),\n",
        "    tf.keras.layers.MaxPooling2D(2, 2),\n",
        "    tf.keras.layers.Flatten(),\n",
        "    tf.keras.layers.Dense(128,activation = 'relu'),\n",
        "    tf.keras.layers.Dropout(0.2),\n",
        "    tf.keras.layers.Dense(256,activation = 'relu'),\n",
        "    tf.keras.layers.Dropout(0.3),\n",
        "    tf.keras.layers.Dense(512,activation = 'relu'),\n",
        "    tf.keras.layers.Dropout(0.4),\n",
        "    tf.keras.layers.Dense(1024,activation = 'relu'),\n",
        "    tf.keras.layers.Dropout(0.5),\n",
        "    tf.keras.layers.Dense(4, activation='softmax')\n",
        "  ])\n",
        "\n",
        "model.compile(optimizer=tf.keras.optimizers.Adam(learning_rate=0.001),\n",
        "                loss='categorical_crossentropy',\n",
        "                metrics=['accuracy'])\n",
        "\n",
        "model.summary()"
      ]
    },
    {
      "cell_type": "code",
      "execution_count": 6,
      "metadata": {
        "colab": {
          "base_uri": "https://localhost:8080/"
        },
        "id": "P_gHFN295dmu",
        "outputId": "8cb4a24d-b26a-461d-beb8-67664cd5dac7"
      },
      "outputs": [
        {
          "output_type": "stream",
          "name": "stdout",
          "text": [
            "Epoch 1/35\n",
            "169/169 [==============================] - 13s 73ms/step - loss: 0.8882 - accuracy: 0.5515 - val_loss: 0.7118 - val_accuracy: 0.6994\n",
            "Epoch 2/35\n",
            "169/169 [==============================] - 12s 71ms/step - loss: 0.6385 - accuracy: 0.7205 - val_loss: 0.4327 - val_accuracy: 0.8177\n",
            "Epoch 3/35\n",
            "169/169 [==============================] - 12s 72ms/step - loss: 0.4383 - accuracy: 0.8217 - val_loss: 0.2998 - val_accuracy: 0.8756\n",
            "Epoch 4/35\n",
            "169/169 [==============================] - 12s 71ms/step - loss: 0.3216 - accuracy: 0.8671 - val_loss: 0.1832 - val_accuracy: 0.9237\n",
            "Epoch 5/35\n",
            "169/169 [==============================] - 12s 72ms/step - loss: 0.3031 - accuracy: 0.8790 - val_loss: 0.2245 - val_accuracy: 0.9196\n",
            "Epoch 6/35\n",
            "169/169 [==============================] - 12s 72ms/step - loss: 0.2326 - accuracy: 0.9062 - val_loss: 0.1633 - val_accuracy: 0.9329\n",
            "Epoch 7/35\n",
            "169/169 [==============================] - 12s 71ms/step - loss: 0.2217 - accuracy: 0.9122 - val_loss: 0.1738 - val_accuracy: 0.9282\n",
            "Epoch 8/35\n",
            "169/169 [==============================] - 12s 71ms/step - loss: 0.2102 - accuracy: 0.9155 - val_loss: 0.1175 - val_accuracy: 0.9566\n",
            "Epoch 9/35\n",
            "169/169 [==============================] - 12s 71ms/step - loss: 0.1990 - accuracy: 0.9204 - val_loss: 0.1146 - val_accuracy: 0.9614\n",
            "Epoch 10/35\n",
            "169/169 [==============================] - 12s 71ms/step - loss: 0.1854 - accuracy: 0.9282 - val_loss: 0.0948 - val_accuracy: 0.9642\n",
            "Epoch 11/35\n",
            "169/169 [==============================] - 12s 73ms/step - loss: 0.1513 - accuracy: 0.9416 - val_loss: 0.1030 - val_accuracy: 0.9595\n",
            "Epoch 12/35\n",
            "169/169 [==============================] - 12s 71ms/step - loss: 0.1494 - accuracy: 0.9422 - val_loss: 0.1009 - val_accuracy: 0.9633\n",
            "Epoch 13/35\n",
            "169/169 [==============================] - 12s 71ms/step - loss: 0.1368 - accuracy: 0.9476 - val_loss: 0.0711 - val_accuracy: 0.9728\n",
            "Epoch 14/35\n",
            "169/169 [==============================] - 12s 71ms/step - loss: 0.1325 - accuracy: 0.9503 - val_loss: 0.0967 - val_accuracy: 0.9570\n",
            "Epoch 15/35\n",
            "169/169 [==============================] - 12s 71ms/step - loss: 0.1282 - accuracy: 0.9513 - val_loss: 0.0839 - val_accuracy: 0.9658\n",
            "Epoch 16/35\n",
            "169/169 [==============================] - 12s 71ms/step - loss: 0.0994 - accuracy: 0.9627 - val_loss: 0.0368 - val_accuracy: 0.9873\n",
            "Epoch 17/35\n",
            "169/169 [==============================] - 12s 71ms/step - loss: 0.0977 - accuracy: 0.9618 - val_loss: 0.0878 - val_accuracy: 0.9601\n",
            "Epoch 18/35\n",
            "169/169 [==============================] - 12s 72ms/step - loss: 0.1088 - accuracy: 0.9589 - val_loss: 0.0469 - val_accuracy: 0.9861\n",
            "Epoch 19/35\n",
            "169/169 [==============================] - 12s 71ms/step - loss: 0.0974 - accuracy: 0.9616 - val_loss: 0.0721 - val_accuracy: 0.9741\n",
            "Epoch 20/35\n",
            "169/169 [==============================] - 12s 72ms/step - loss: 0.0833 - accuracy: 0.9687 - val_loss: 0.0674 - val_accuracy: 0.9722\n",
            "Epoch 21/35\n",
            "169/169 [==============================] - 12s 71ms/step - loss: 0.0952 - accuracy: 0.9650 - val_loss: 0.0632 - val_accuracy: 0.9747\n",
            "Epoch 22/35\n",
            "169/169 [==============================] - 12s 72ms/step - loss: 0.1109 - accuracy: 0.9587 - val_loss: 0.0693 - val_accuracy: 0.9741\n",
            "Epoch 23/35\n",
            "169/169 [==============================] - 12s 72ms/step - loss: 0.0828 - accuracy: 0.9699 - val_loss: 0.0471 - val_accuracy: 0.9804\n",
            "Epoch 24/35\n",
            "169/169 [==============================] - 12s 72ms/step - loss: 0.0768 - accuracy: 0.9716 - val_loss: 0.0747 - val_accuracy: 0.9709\n",
            "Epoch 25/35\n",
            "169/169 [==============================] - 12s 72ms/step - loss: 0.0743 - accuracy: 0.9724 - val_loss: 0.0546 - val_accuracy: 0.9797\n",
            "Epoch 26/35\n",
            "169/169 [==============================] - 12s 72ms/step - loss: 0.0816 - accuracy: 0.9703 - val_loss: 0.0368 - val_accuracy: 0.9864\n",
            "Epoch 27/35\n",
            "169/169 [==============================] - 12s 71ms/step - loss: 0.0844 - accuracy: 0.9688 - val_loss: 0.0297 - val_accuracy: 0.9858\n",
            "Epoch 28/35\n",
            "169/169 [==============================] - 12s 73ms/step - loss: 0.0769 - accuracy: 0.9729 - val_loss: 0.1390 - val_accuracy: 0.9497\n",
            "Epoch 29/35\n",
            "169/169 [==============================] - 12s 73ms/step - loss: 0.0612 - accuracy: 0.9767 - val_loss: 0.0379 - val_accuracy: 0.9845\n",
            "Epoch 30/35\n",
            "169/169 [==============================] - 12s 72ms/step - loss: 0.0750 - accuracy: 0.9730 - val_loss: 0.0343 - val_accuracy: 0.9861\n",
            "Epoch 31/35\n",
            "169/169 [==============================] - 12s 72ms/step - loss: 0.0659 - accuracy: 0.9741 - val_loss: 0.0655 - val_accuracy: 0.9731\n",
            "Epoch 32/35\n",
            "169/169 [==============================] - 12s 73ms/step - loss: 0.0678 - accuracy: 0.9737 - val_loss: 0.0262 - val_accuracy: 0.9867\n",
            "Epoch 33/35\n",
            "169/169 [==============================] - 13s 74ms/step - loss: 0.0742 - accuracy: 0.9738 - val_loss: 0.0698 - val_accuracy: 0.9718\n",
            "Epoch 34/35\n",
            "169/169 [==============================] - 12s 72ms/step - loss: 0.0601 - accuracy: 0.9770 - val_loss: 0.0420 - val_accuracy: 0.9823\n",
            "Epoch 35/35\n",
            "169/169 [==============================] - 12s 72ms/step - loss: 0.0550 - accuracy: 0.9784 - val_loss: 0.0177 - val_accuracy: 0.9943\n"
          ]
        }
      ],
      "source": [
        "history = model.fit(datagen.flow(trainx,trainy,batch_size=75),validation_data=(testx,testy),epochs=35)"
      ]
    },
    {
      "cell_type": "code",
      "execution_count": 9,
      "metadata": {
        "colab": {
          "base_uri": "https://localhost:8080/"
        },
        "id": "m7rxPsSwwrlg",
        "outputId": "c3e83aeb-ee27-4bce-f1c2-645b26beb704"
      },
      "outputs": [
        {
          "output_type": "stream",
          "name": "stdout",
          "text": [
            "Prediction is Bacterial leaf blight.\n"
          ]
        }
      ],
      "source": [
        "image=load_img(\"/content/BacterialLeafBlight.jpg\", target_size=(32,32))\n",
        "\n",
        "image=img_to_array(image) \n",
        "image=image/255.0\n",
        "prediction_image=np.array(image)\n",
        "prediction_image= np.expand_dims(image, axis=0)\n",
        "prediction=model.predict(prediction_image)\n",
        "value=np.argmax(prediction)\n",
        "move_name=mapper(value)\n",
        "print(\"Prediction is {}.\".format(move_name))"
      ]
    },
    {
      "cell_type": "code",
      "source": [
        ""
      ],
      "metadata": {
        "id": "9X88pJBK_xjt"
      },
      "execution_count": null,
      "outputs": []
    }
  ],
  "metadata": {
    "colab": {
      "collapsed_sections": [],
      "name": "PadE_model.ipynb",
      "provenance": [],
      "mount_file_id": "1vkPD3pJMV4P1O3BtiOM_Bq41BUhqdacb",
      "authorship_tag": "ABX9TyPZComqqlCYk01+s0LnpyVr",
      "include_colab_link": true
    },
    "kernelspec": {
      "display_name": "Python 3",
      "name": "python3"
    },
    "language_info": {
      "name": "python"
    }
  },
  "nbformat": 4,
  "nbformat_minor": 0
}