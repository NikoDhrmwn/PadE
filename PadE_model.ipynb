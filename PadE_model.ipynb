{
  "cells": [
    {
      "cell_type": "markdown",
      "metadata": {
        "id": "view-in-github",
        "colab_type": "text"
      },
      "source": [
        "<a href=\"https://colab.research.google.com/github/NikoDhrmwn/PadE/blob/main/PadE_model.ipynb\" target=\"_parent\"><img src=\"https://colab.research.google.com/assets/colab-badge.svg\" alt=\"Open In Colab\"/></a>"
      ]
    },
    {
      "cell_type": "code",
      "execution_count": 16,
      "metadata": {
        "id": "F2MSh4VvkK03"
      },
      "outputs": [],
      "source": [
        "import matplotlib.pyplot as plt\n",
        "import tensorflow as tf\n",
        "import numpy as np\n",
        "import pandas as pd\n",
        "import os\n",
        "\n",
        "from tensorflow.keras.utils import to_categorical\n",
        "from tensorflow.keras.preprocessing.image import load_img, img_to_array\n",
        "from tensorflow.keras.preprocessing.image import ImageDataGenerator\n",
        "from sklearn.model_selection import train_test_split"
      ]
    },
    {
      "cell_type": "code",
      "execution_count": 17,
      "metadata": {
        "id": "tmAbO_OQsT2X"
      },
      "outputs": [],
      "source": [
        "train_dir=\"/content/drive/MyDrive/rice-leaf-desease/training\"\n",
        "val_dir=\"/content/drive/MyDrive/rice-leaf-desease/validation\"\n",
        "Labels=[]\n",
        "\n",
        "for file in os.listdir(train_dir):\n",
        "    Labels+=[file]\n",
        "\n",
        "Label=[]\n",
        "\n",
        "for i in range(len(Labels)):\n",
        "    Label+=[i]\n",
        "    \n",
        "mapping = dict(zip(Labels, Label)) \n",
        "reverse_mapping = dict(zip(Label, Labels)) \n",
        "\n",
        "def mapper(value):\n",
        "    return reverse_mapping[value]\n",
        "\n",
        "dataset=[]\n",
        "valset=[]\n",
        "count=0\n",
        "for file in os.listdir(train_dir):\n",
        "    path=os.path.join(train_dir,file)\n",
        "    t=0\n",
        "    for im in os.listdir(path):\n",
        "        image=load_img(os.path.join(path,im), grayscale=False, color_mode='rgb', target_size=(32,32))\n",
        "        image=img_to_array(image)\n",
        "        image=image/255.0\n",
        "        dataset+=[[image,count]]\n",
        "        t+=1\n",
        "    count=count+1\n",
        "count=0\n",
        "for file in os.listdir(val_dir):\n",
        "    path=os.path.join(val_dir,file)\n",
        "    t=0\n",
        "    for im in os.listdir(path):\n",
        "        image=load_img(os.path.join(path,im), grayscale=False, color_mode='rgb', target_size=(32,32))\n",
        "        image=img_to_array(image)\n",
        "        image=image/255.0\n",
        "        valset+=[[image,count]]\n",
        "        t+=1\n",
        "    count=count+1"
      ]
    },
    {
      "cell_type": "code",
      "execution_count": 18,
      "metadata": {
        "colab": {
          "base_uri": "https://localhost:8080/"
        },
        "id": "7BD-wSxnmn1m",
        "outputId": "ac6c502b-ec41-438d-d402-1a38b6bbd5e7"
      },
      "outputs": [
        {
          "output_type": "stream",
          "name": "stdout",
          "text": [
            "(12640, 32, 32, 3)\n",
            "(3160, 32, 32, 3)\n",
            "(12640, 4)\n",
            "(3160, 4)\n"
          ]
        }
      ],
      "source": [
        "data,labels0=zip(*dataset)\n",
        "test,testlabels0=zip(*valset)\n",
        "labels1=to_categorical(labels0)\n",
        "labels=np.array(labels1)\n",
        "data=np.array(data)\n",
        "test=np.array(test)\n",
        "trainx,testx,trainy,testy=train_test_split(data,labels,test_size=0.2,random_state=44)\n",
        "\n",
        "print(trainx.shape)\n",
        "print(testx.shape)\n",
        "print(trainy.shape)\n",
        "print(testy.shape)"
      ]
    },
    {
      "cell_type": "code",
      "execution_count": 19,
      "metadata": {
        "id": "zizbeGKMr9O-"
      },
      "outputs": [],
      "source": [
        "datagen = ImageDataGenerator(horizontal_flip=True,vertical_flip=True,rotation_range=50,zoom_range=0.8,\n",
        "                        width_shift_range=0.25,height_shift_range=0.4,shear_range=0.4,fill_mode=\"nearest\")"
      ]
    },
    {
      "cell_type": "code",
      "execution_count": 22,
      "metadata": {
        "colab": {
          "base_uri": "https://localhost:8080/"
        },
        "id": "Qj35Lc9OvL7n",
        "outputId": "4746a361-e477-4182-fddc-6a9a4ee5cd66"
      },
      "outputs": [
        {
          "output_type": "stream",
          "name": "stdout",
          "text": [
            "Model: \"sequential_3\"\n",
            "_________________________________________________________________\n",
            " Layer (type)                Output Shape              Param #   \n",
            "=================================================================\n",
            " conv2d_12 (Conv2D)          (None, 30, 30, 16)        448       \n",
            "                                                                 \n",
            " max_pooling2d_12 (MaxPoolin  (None, 15, 15, 16)       0         \n",
            " g2D)                                                            \n",
            "                                                                 \n",
            " conv2d_13 (Conv2D)          (None, 13, 13, 32)        4640      \n",
            "                                                                 \n",
            " max_pooling2d_13 (MaxPoolin  (None, 6, 6, 32)         0         \n",
            " g2D)                                                            \n",
            "                                                                 \n",
            " flatten_3 (Flatten)         (None, 1152)              0         \n",
            "                                                                 \n",
            " dense_8 (Dense)             (None, 128)               147584    \n",
            "                                                                 \n",
            " dropout_5 (Dropout)         (None, 128)               0         \n",
            "                                                                 \n",
            " dense_9 (Dense)             (None, 4)                 516       \n",
            "                                                                 \n",
            "=================================================================\n",
            "Total params: 153,188\n",
            "Trainable params: 153,188\n",
            "Non-trainable params: 0\n",
            "_________________________________________________________________\n"
          ]
        }
      ],
      "source": [
        "model = tf.keras.models.Sequential([ \n",
        "    tf.keras.layers.Conv2D(16, (3, 3), activation='relu', input_shape=(32, 32, 3)),\n",
        "    tf.keras.layers.MaxPooling2D(2, 2),\n",
        "    tf.keras.layers.Conv2D(32, (3, 3), activation='relu'),\n",
        "    tf.keras.layers.MaxPooling2D(2, 2),\n",
        "    tf.keras.layers.Flatten(),\n",
        "    tf.keras.layers.Dense(128,activation = 'relu'),\n",
        "    tf.keras.layers.Dropout(0.2),\n",
        "    tf.keras.layers.Dense(4, activation='softmax')\n",
        "  ])\n",
        "\n",
        "model.compile(optimizer=tf.keras.optimizers.Adam(learning_rate=0.001),\n",
        "                loss='categorical_crossentropy',\n",
        "                metrics=['accuracy'])\n",
        "\n",
        "model.summary()"
      ]
    },
    {
      "cell_type": "code",
      "execution_count": 28,
      "metadata": {
        "colab": {
          "base_uri": "https://localhost:8080/"
        },
        "id": "P_gHFN295dmu",
        "outputId": "9500416b-688e-4c65-bf00-36d2a1f7a38b"
      },
      "outputs": [
        {
          "output_type": "stream",
          "name": "stdout",
          "text": [
            "Epoch 1/15\n",
            "169/169 [==============================] - 17s 99ms/step - loss: 0.3185 - accuracy: 0.8725 - val_loss: 0.2193 - val_accuracy: 0.9111\n",
            "Epoch 2/15\n",
            "169/169 [==============================] - 17s 99ms/step - loss: 0.3148 - accuracy: 0.8716 - val_loss: 0.1882 - val_accuracy: 0.9278\n",
            "Epoch 3/15\n",
            "169/169 [==============================] - 17s 102ms/step - loss: 0.2742 - accuracy: 0.8882 - val_loss: 0.1664 - val_accuracy: 0.9383\n",
            "Epoch 4/15\n",
            "169/169 [==============================] - 17s 99ms/step - loss: 0.2695 - accuracy: 0.8931 - val_loss: 0.1474 - val_accuracy: 0.9481\n",
            "Epoch 5/15\n",
            "169/169 [==============================] - 17s 99ms/step - loss: 0.2475 - accuracy: 0.9005 - val_loss: 0.1540 - val_accuracy: 0.9316\n",
            "Epoch 6/15\n",
            "169/169 [==============================] - 17s 103ms/step - loss: 0.2442 - accuracy: 0.9013 - val_loss: 0.2204 - val_accuracy: 0.9082\n",
            "Epoch 7/15\n",
            "169/169 [==============================] - 17s 99ms/step - loss: 0.2374 - accuracy: 0.9025 - val_loss: 0.1589 - val_accuracy: 0.9396\n",
            "Epoch 8/15\n",
            "169/169 [==============================] - 17s 99ms/step - loss: 0.2213 - accuracy: 0.9111 - val_loss: 0.1083 - val_accuracy: 0.9579\n",
            "Epoch 9/15\n",
            "169/169 [==============================] - 17s 99ms/step - loss: 0.2118 - accuracy: 0.9112 - val_loss: 0.1084 - val_accuracy: 0.9551\n",
            "Epoch 10/15\n",
            "169/169 [==============================] - 17s 102ms/step - loss: 0.2161 - accuracy: 0.9109 - val_loss: 0.0991 - val_accuracy: 0.9646\n",
            "Epoch 11/15\n",
            "169/169 [==============================] - 17s 100ms/step - loss: 0.1993 - accuracy: 0.9191 - val_loss: 0.0922 - val_accuracy: 0.9633\n",
            "Epoch 12/15\n",
            "169/169 [==============================] - 17s 99ms/step - loss: 0.2147 - accuracy: 0.9131 - val_loss: 0.0918 - val_accuracy: 0.9617\n",
            "Epoch 13/15\n",
            "169/169 [==============================] - 17s 101ms/step - loss: 0.1904 - accuracy: 0.9204 - val_loss: 0.0790 - val_accuracy: 0.9718\n",
            "Epoch 14/15\n",
            "169/169 [==============================] - 17s 99ms/step - loss: 0.2038 - accuracy: 0.9163 - val_loss: 0.1125 - val_accuracy: 0.9554\n",
            "Epoch 15/15\n",
            "169/169 [==============================] - 17s 100ms/step - loss: 0.1882 - accuracy: 0.9236 - val_loss: 0.0866 - val_accuracy: 0.9601\n"
          ]
        }
      ],
      "source": [
        "history = model.fit(datagen.flow(trainx,trainy,batch_size=75),validation_data=(testx,testy),epochs=15)"
      ]
    },
    {
      "cell_type": "code",
      "execution_count": 32,
      "metadata": {
        "colab": {
          "base_uri": "https://localhost:8080/"
        },
        "id": "m7rxPsSwwrlg",
        "outputId": "67002d42-85cf-43e0-f5d6-b5bf0e92b5de"
      },
      "outputs": [
        {
          "output_type": "stream",
          "name": "stdout",
          "text": [
            "Prediction is Brown spot.\n"
          ]
        }
      ],
      "source": [
        "image=load_img(\"/content/drive/MyDrive/rice-leaf-desease/validation/Brown spot/Brown_spot_original_DSC_0100.jpg_6f9b7dc7-db21-46ae-be8c-4e082e5d7868.jpg\", target_size=(32,32))\n",
        "\n",
        "image=img_to_array(image) \n",
        "image=image/255.0\n",
        "prediction_image=np.array(image)\n",
        "prediction_image= np.expand_dims(image, axis=0)\n",
        "prediction=model.predict(prediction_image)\n",
        "value=np.argmax(prediction)\n",
        "move_name=mapper(value)\n",
        "print(\"Prediction is {}.\".format(move_name))"
      ]
    }
  ],
  "metadata": {
    "colab": {
      "collapsed_sections": [],
      "name": "PadE_model.ipynb",
      "provenance": [],
      "mount_file_id": "1vkPD3pJMV4P1O3BtiOM_Bq41BUhqdacb",
      "authorship_tag": "ABX9TyN14AvA/aI4SahBV5bVPN+6",
      "include_colab_link": true
    },
    "kernelspec": {
      "display_name": "Python 3",
      "name": "python3"
    },
    "language_info": {
      "name": "python"
    }
  },
  "nbformat": 4,
  "nbformat_minor": 0
}