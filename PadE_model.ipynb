{
  "nbformat": 4,
  "nbformat_minor": 0,
  "metadata": {
    "colab": {
      "name": "PadE.ipynb",
      "provenance": [],
      "collapsed_sections": []
    },
    "kernelspec": {
      "name": "python3",
      "display_name": "Python 3"
    },
    "language_info": {
      "name": "python"
    }
  },
  "cells": [
    {
      "cell_type": "code",
      "execution_count": 1,
      "metadata": {
        "id": "_p-gYN-w57es"
      },
      "outputs": [],
      "source": [
        "import os\n",
        "import numpy as np\n",
        "import matplotlib.pyplot as plt\n",
        "import pathlib\n",
        "import tensorflow as tf\n",
        "from tensorflow.keras.utils import to_categorical\n",
        "from tensorflow.keras.preprocessing.image import load_img, img_to_array\n",
        "from tensorflow.keras.preprocessing.image import ImageDataGenerator\n",
        "from sklearn.model_selection import train_test_split"
      ]
    },
    {
      "cell_type": "code",
      "source": [
        "from google.colab import drive\n",
        "drive.mount('/content/drive')"
      ],
      "metadata": {
        "id": "UOCPE0e76D2e",
        "colab": {
          "base_uri": "https://localhost:8080/"
        },
        "outputId": "69740b96-17cc-4358-d598-ed590f56de4e"
      },
      "execution_count": 2,
      "outputs": [
        {
          "output_type": "stream",
          "name": "stdout",
          "text": [
            "Drive already mounted at /content/drive; to attempt to forcibly remount, call drive.mount(\"/content/drive\", force_remount=True).\n"
          ]
        }
      ]
    },
    {
      "cell_type": "code",
      "source": [
        "data_dir = \"/content/drive/MyDrive/rice-leaf-disease/training\"\n",
        "\n",
        "dataset = []\n",
        "label = 0\n",
        "\n",
        "for file in os.listdir(data_dir):\n",
        "    path = os.path.join(data_dir, file)\n",
        "    for img in os.listdir(path):\n",
        "        image = load_img(os.path.join(path, img), grayscale=False, color_mode='rgb', target_size=(32,32))\n",
        "        image = img_to_array(image)\n",
        "        image = image/255.0\n",
        "        dataset += [[image, label]]\n",
        "    label+=1\n",
        "\n",
        "print('There are', len(dataset), 'images in', label, 'classes')"
      ],
      "metadata": {
        "id": "9W65q5zSwKYa",
        "colab": {
          "base_uri": "https://localhost:8080/"
        },
        "outputId": "4ce5d690-9f86-450d-e8a8-ec96cccd2595"
      },
      "execution_count": 3,
      "outputs": [
        {
          "output_type": "stream",
          "name": "stdout",
          "text": [
            "There are 16160 images in 4 classes\n"
          ]
        }
      ]
    },
    {
      "cell_type": "code",
      "source": [
        "data, labels = zip(*dataset)\n",
        "data = np.array(data)\n",
        "labels = np.array(to_categorical(labels))\n",
        "\n",
        "train_data, val_data, train_labels, val_labels = train_test_split(data, labels, test_size=0.2, random_state=44)\n",
        "\n",
        "print(train_data.shape)\n",
        "print(val_data.shape)\n",
        "print(train_labels.shape)\n",
        "print(val_labels.shape)"
      ],
      "metadata": {
        "id": "g8SkMWy8J9Z_",
        "colab": {
          "base_uri": "https://localhost:8080/"
        },
        "outputId": "5c4a5c09-fca4-4be3-dbba-42bf5cbd3ab5"
      },
      "execution_count": 4,
      "outputs": [
        {
          "output_type": "stream",
          "name": "stdout",
          "text": [
            "(12928, 32, 32, 3)\n",
            "(3232, 32, 32, 3)\n",
            "(12928, 4)\n",
            "(3232, 4)\n"
          ]
        }
      ]
    },
    {
      "cell_type": "code",
      "source": [
        "train_datagen = ImageDataGenerator(horizontal_flip=True,\n",
        "                                   vertical_flip=True,\n",
        "                                   rotation_range=20,\n",
        "                                   zoom_range=0.1,\n",
        "                                   width_shift_range=0.2,\n",
        "                                   height_shift_range=0.2,\n",
        "                                   shear_range=0.2,\n",
        "                                   fill_mode=\"nearest\")"
      ],
      "metadata": {
        "id": "Y1GuxS1JK6Ce"
      },
      "execution_count": 5,
      "outputs": []
    },
    {
      "cell_type": "code",
      "source": [
        "model = tf.keras.models.Sequential([\n",
        "  tf.keras.layers.Conv2D(16, (3, 3), activation='relu', input_shape=(32, 32, 3)),\n",
        "  tf.keras.layers.MaxPooling2D(2, 2),\n",
        "  tf.keras.layers.Conv2D(32, (3, 3), activation='relu'),\n",
        "  tf.keras.layers.MaxPooling2D(2, 2),\n",
        "  tf.keras.layers.Flatten(),\n",
        "  tf.keras.layers.Dense(128, activation='relu'),\n",
        "  tf.keras.layers.Dropout(0.2),\n",
        "  tf.keras.layers.Dense(256, activation='relu'),\n",
        "  tf.keras.layers.Dropout(0.3),\n",
        "  tf.keras.layers.Dense(512, activation='relu'),\n",
        "  tf.keras.layers.Dropout(0.4),\n",
        "  tf.keras.layers.Dense(1024, activation = 'relu'),\n",
        "  tf.keras.layers.Dropout(0.5),\n",
        "  tf.keras.layers.Dense(4, activation='softmax')\n",
        "])\n",
        "\n",
        "model.compile(optimizer=tf.keras.optimizers.Adam(),\n",
        "              loss='categorical_crossentropy',\n",
        "              metrics=['accuracy'])\n",
        "\n",
        "model.summary()"
      ],
      "metadata": {
        "id": "Y0dpAhNqwXfW",
        "colab": {
          "base_uri": "https://localhost:8080/"
        },
        "outputId": "c300aeb0-8fe3-4a31-c1d8-780297fa4187"
      },
      "execution_count": 6,
      "outputs": [
        {
          "output_type": "stream",
          "name": "stdout",
          "text": [
            "Model: \"sequential\"\n",
            "_________________________________________________________________\n",
            " Layer (type)                Output Shape              Param #   \n",
            "=================================================================\n",
            " conv2d (Conv2D)             (None, 30, 30, 16)        448       \n",
            "                                                                 \n",
            " max_pooling2d (MaxPooling2D  (None, 15, 15, 16)       0         \n",
            " )                                                               \n",
            "                                                                 \n",
            " conv2d_1 (Conv2D)           (None, 13, 13, 32)        4640      \n",
            "                                                                 \n",
            " max_pooling2d_1 (MaxPooling  (None, 6, 6, 32)         0         \n",
            " 2D)                                                             \n",
            "                                                                 \n",
            " flatten (Flatten)           (None, 1152)              0         \n",
            "                                                                 \n",
            " dense (Dense)               (None, 128)               147584    \n",
            "                                                                 \n",
            " dropout (Dropout)           (None, 128)               0         \n",
            "                                                                 \n",
            " dense_1 (Dense)             (None, 256)               33024     \n",
            "                                                                 \n",
            " dropout_1 (Dropout)         (None, 256)               0         \n",
            "                                                                 \n",
            " dense_2 (Dense)             (None, 512)               131584    \n",
            "                                                                 \n",
            " dropout_2 (Dropout)         (None, 512)               0         \n",
            "                                                                 \n",
            " dense_3 (Dense)             (None, 1024)              525312    \n",
            "                                                                 \n",
            " dropout_3 (Dropout)         (None, 1024)              0         \n",
            "                                                                 \n",
            " dense_4 (Dense)             (None, 4)                 4100      \n",
            "                                                                 \n",
            "=================================================================\n",
            "Total params: 846,692\n",
            "Trainable params: 846,692\n",
            "Non-trainable params: 0\n",
            "_________________________________________________________________\n"
          ]
        }
      ]
    },
    {
      "cell_type": "code",
      "source": [
        "history = model.fit(train_datagen.flow(train_data, train_labels, batch_size=100),\n",
        "                    validation_data=(val_data, val_labels),\n",
        "                    epochs=30)"
      ],
      "metadata": {
        "id": "xTYxk6GzKsTR",
        "colab": {
          "base_uri": "https://localhost:8080/"
        },
        "outputId": "f732b520-26be-4d72-dd7e-c5884df6f231"
      },
      "execution_count": 7,
      "outputs": [
        {
          "output_type": "stream",
          "name": "stdout",
          "text": [
            "Epoch 1/30\n",
            "130/130 [==============================] - 20s 145ms/step - loss: 0.8880 - accuracy: 0.5630 - val_loss: 0.4983 - val_accuracy: 0.8029\n",
            "Epoch 2/30\n",
            "130/130 [==============================] - 21s 158ms/step - loss: 0.4776 - accuracy: 0.8093 - val_loss: 0.2789 - val_accuracy: 0.8942\n",
            "Epoch 3/30\n",
            "130/130 [==============================] - 19s 142ms/step - loss: 0.3330 - accuracy: 0.8695 - val_loss: 0.1847 - val_accuracy: 0.9264\n",
            "Epoch 4/30\n",
            "130/130 [==============================] - 18s 141ms/step - loss: 0.2697 - accuracy: 0.8939 - val_loss: 0.1809 - val_accuracy: 0.9288\n",
            "Epoch 5/30\n",
            "130/130 [==============================] - 18s 141ms/step - loss: 0.2174 - accuracy: 0.9158 - val_loss: 0.1574 - val_accuracy: 0.9412\n",
            "Epoch 6/30\n",
            "130/130 [==============================] - 19s 143ms/step - loss: 0.2034 - accuracy: 0.9209 - val_loss: 0.1896 - val_accuracy: 0.9313\n",
            "Epoch 7/30\n",
            "130/130 [==============================] - 19s 143ms/step - loss: 0.1673 - accuracy: 0.9330 - val_loss: 0.1716 - val_accuracy: 0.9381\n",
            "Epoch 8/30\n",
            "130/130 [==============================] - 19s 143ms/step - loss: 0.1580 - accuracy: 0.9366 - val_loss: 0.1207 - val_accuracy: 0.9474\n",
            "Epoch 9/30\n",
            "130/130 [==============================] - 18s 141ms/step - loss: 0.1625 - accuracy: 0.9366 - val_loss: 0.0705 - val_accuracy: 0.9731\n",
            "Epoch 10/30\n",
            "130/130 [==============================] - 18s 140ms/step - loss: 0.1386 - accuracy: 0.9427 - val_loss: 0.0951 - val_accuracy: 0.9592\n",
            "Epoch 11/30\n",
            "130/130 [==============================] - 21s 158ms/step - loss: 0.1473 - accuracy: 0.9400 - val_loss: 0.0859 - val_accuracy: 0.9638\n",
            "Epoch 12/30\n",
            "130/130 [==============================] - 18s 142ms/step - loss: 0.1086 - accuracy: 0.9563 - val_loss: 0.0678 - val_accuracy: 0.9737\n",
            "Epoch 13/30\n",
            "130/130 [==============================] - 19s 143ms/step - loss: 0.1101 - accuracy: 0.9574 - val_loss: 0.0792 - val_accuracy: 0.9706\n",
            "Epoch 14/30\n",
            "130/130 [==============================] - 18s 142ms/step - loss: 0.1125 - accuracy: 0.9549 - val_loss: 0.1555 - val_accuracy: 0.9415\n",
            "Epoch 15/30\n",
            "130/130 [==============================] - 18s 142ms/step - loss: 0.0947 - accuracy: 0.9631 - val_loss: 0.0813 - val_accuracy: 0.9762\n",
            "Epoch 16/30\n",
            "130/130 [==============================] - 19s 142ms/step - loss: 0.0941 - accuracy: 0.9650 - val_loss: 0.0330 - val_accuracy: 0.9879\n",
            "Epoch 17/30\n",
            "130/130 [==============================] - 19s 145ms/step - loss: 0.0780 - accuracy: 0.9692 - val_loss: 0.0448 - val_accuracy: 0.9848\n",
            "Epoch 18/30\n",
            "130/130 [==============================] - 19s 143ms/step - loss: 0.0892 - accuracy: 0.9672 - val_loss: 0.0935 - val_accuracy: 0.9641\n",
            "Epoch 19/30\n",
            "130/130 [==============================] - 19s 145ms/step - loss: 0.0984 - accuracy: 0.9622 - val_loss: 0.0407 - val_accuracy: 0.9855\n",
            "Epoch 20/30\n",
            "130/130 [==============================] - 21s 157ms/step - loss: 0.0851 - accuracy: 0.9661 - val_loss: 0.0680 - val_accuracy: 0.9790\n",
            "Epoch 21/30\n",
            "130/130 [==============================] - 19s 144ms/step - loss: 0.0832 - accuracy: 0.9680 - val_loss: 0.0463 - val_accuracy: 0.9845\n",
            "Epoch 22/30\n",
            "130/130 [==============================] - 19s 145ms/step - loss: 0.0868 - accuracy: 0.9658 - val_loss: 0.0291 - val_accuracy: 0.9907\n",
            "Epoch 23/30\n",
            "130/130 [==============================] - 19s 145ms/step - loss: 0.0769 - accuracy: 0.9705 - val_loss: 0.0356 - val_accuracy: 0.9845\n",
            "Epoch 24/30\n",
            "130/130 [==============================] - 19s 143ms/step - loss: 0.0714 - accuracy: 0.9718 - val_loss: 0.0763 - val_accuracy: 0.9688\n",
            "Epoch 25/30\n",
            "130/130 [==============================] - 19s 142ms/step - loss: 0.0575 - accuracy: 0.9776 - val_loss: 0.0310 - val_accuracy: 0.9882\n",
            "Epoch 26/30\n",
            "130/130 [==============================] - 19s 143ms/step - loss: 0.0650 - accuracy: 0.9747 - val_loss: 0.0521 - val_accuracy: 0.9848\n",
            "Epoch 27/30\n",
            "130/130 [==============================] - 19s 144ms/step - loss: 0.0596 - accuracy: 0.9756 - val_loss: 0.0440 - val_accuracy: 0.9811\n",
            "Epoch 28/30\n",
            "130/130 [==============================] - 19s 143ms/step - loss: 0.0532 - accuracy: 0.9795 - val_loss: 0.0338 - val_accuracy: 0.9851\n",
            "Epoch 29/30\n",
            "130/130 [==============================] - 21s 160ms/step - loss: 0.0582 - accuracy: 0.9770 - val_loss: 0.0439 - val_accuracy: 0.9817\n",
            "Epoch 30/30\n",
            "130/130 [==============================] - 19s 144ms/step - loss: 0.0636 - accuracy: 0.9773 - val_loss: 0.0384 - val_accuracy: 0.9848\n"
          ]
        }
      ]
    },
    {
      "cell_type": "code",
      "source": [
        "acc = history.history['accuracy']\n",
        "val_acc = history.history['val_accuracy']\n",
        "loss = history.history['loss']\n",
        "val_loss = history.history['val_loss']\n",
        "\n",
        "epochs = range(len(acc))\n",
        "\n",
        "plt.plot(epochs, acc, 'r', label='Training accuracy')\n",
        "plt.plot(epochs, val_acc, 'b', label='Validation accuracy')\n",
        "plt.title('Training and validation accuracy')\n",
        "plt.legend()\n",
        "\n",
        "plt.figure()\n",
        "plt.plot(epochs, loss, 'r', label='Training Loss')\n",
        "plt.plot(epochs, val_loss, 'b', label='Validation Loss')\n",
        "plt.title('Training and validation loss')\n",
        "plt.legend()\n",
        "\n",
        "plt.show()"
      ],
      "metadata": {
        "colab": {
          "base_uri": "https://localhost:8080/",
          "height": 545
        },
        "id": "b48BUYdnLCkh",
        "outputId": "ae4714ba-1cdc-4b70-922a-8b0bc9bd0b14"
      },
      "execution_count": 8,
      "outputs": [
        {
          "output_type": "display_data",
          "data": {
            "text/plain": [
              "<Figure size 432x288 with 1 Axes>"
            ],
            "image/png": "[encoded data removed]"
          },
          "metadata": {
            "needs_background": "light"
          }
        },
        {
          "output_type": "display_data",
          "data": {
            "text/plain": [
              "<Figure size 432x288 with 1 Axes>"
            ],
            "image/png": "[encoded data removed]"
          },
          "metadata": {
            "needs_background": "light"
          }
        }
      ]
    },
    {
      "cell_type": "code",
      "source": [
        "export_dir = '/content/drive/MyDrive/PadE/saved_model'\n",
        "tf.saved_model.save(model,export_dir=export_dir)"
      ],
      "metadata": {
        "id": "ywj0pPYvgOLk",
        "colab": {
          "base_uri": "https://localhost:8080/"
        },
        "outputId": "b0e80e94-e740-4d11-8482-6715732135a4"
      },
      "execution_count": 9,
      "outputs": [
        {
          "output_type": "stream",
          "name": "stdout",
          "text": [
            "INFO:tensorflow:Assets written to: /content/drive/MyDrive/PadE/saved_model/assets\n"
          ]
        }
      ]
    },
    {
      "cell_type": "code",
      "source": [
        "converter = tf.lite.TFLiteConverter.from_saved_model(export_dir)\n",
        "converter.optimizations = [tf.lite.Optimize.DEFAULT]\n",
        "tflite_model = converter.convert();\n",
        "tflite_model_file = pathlib.Path('/content/drive/MyDrive/PadE/saved_model/model.tflite')\n",
        "tflite_model_file.write_bytes(tflite_model)"
      ],
      "metadata": {
        "id": "ZTICkOxbgPJs",
        "colab": {
          "base_uri": "https://localhost:8080/"
        },
        "outputId": "510baf22-0b67-4233-b569-9e8f4a08d445"
      },
      "execution_count": 10,
      "outputs": [
        {
          "output_type": "stream",
          "name": "stderr",
          "text": [
            "WARNING:absl:Buffer deduplication procedure will be skipped when flatbuffer library is not properly loaded\n"
          ]
        },
        {
          "output_type": "execute_result",
          "data": {
            "text/plain": [
              "859168"
            ]
          },
          "metadata": {},
          "execution_count": 10
        }
      ]
    }
  ]
}