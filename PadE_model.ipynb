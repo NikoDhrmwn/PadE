{
  "nbformat": 4,
  "nbformat_minor": 0,
  "metadata": {
    "colab": {
      "name": "PadE_model.ipynb",
      "provenance": [],
      "mount_file_id": "1vkPD3pJMV4P1O3BtiOM_Bq41BUhqdacb",
      "authorship_tag": "ABX9TyPgqIlmJZEmHUMs3SzVNKO6",
      "include_colab_link": true
    },
    "kernelspec": {
      "name": "python3",
      "display_name": "Python 3"
    },
    "language_info": {
      "name": "python"
    }
  },
  "cells": [
    {
      "cell_type": "markdown",
      "metadata": {
        "id": "view-in-github",
        "colab_type": "text"
      },
      "source": [
        "<a href=\"https://colab.research.google.com/github/NikoDhrmwn/PadE/blob/main/PadE_model.ipynb\" target=\"_parent\"><img src=\"https://colab.research.google.com/assets/colab-badge.svg\" alt=\"Open In Colab\"/></a>"
      ]
    },
    {
      "cell_type": "code",
      "execution_count": null,
      "metadata": {
        "id": "F2MSh4VvkK03"
      },
      "outputs": [],
      "source": [
        "import matplotlib.pyplot as plt\n",
        "import tensorflow as tf\n",
        "import numpy as np\n",
        "import pandas as pd\n",
        "import os\n",
        "\n",
        "from tensorflow.keras.utils import to_categorical\n",
        "from tensorflow.keras.preprocessing.image import load_img, img_to_array\n",
        "from tensorflow.keras.preprocessing.image import ImageDataGenerator\n",
        "from sklearn.model_selection import train_test_split"
      ]
    },
    {
      "cell_type": "code",
      "source": [
        "train_dir=\"/content/drive/MyDrive/RiceLeafs/train\"\n",
        "val_dir=\"/content/drive/MyDrive/RiceLeafs/validation\"\n",
        "Labels=[]\n",
        "\n",
        "for file in os.listdir(train_dir):\n",
        "    Labels+=[file]\n",
        "\n",
        "Label=[]\n",
        "\n",
        "for i in range(len(Labels)):\n",
        "    Label+=[i]\n",
        "    \n",
        "mapping = dict(zip(Labels, Label)) \n",
        "reverse_mapping = dict(zip(Label, Labels)) \n",
        "\n",
        "def mapper(value):\n",
        "    return reverse_mapping[value]\n",
        "\n",
        "dataset=[]\n",
        "valset=[]\n",
        "count=0\n",
        "for file in os.listdir(train_dir):\n",
        "    path=os.path.join(train_dir,file)\n",
        "    t=0\n",
        "    for im in os.listdir(path):\n",
        "        image=load_img(os.path.join(path,im), grayscale=False, color_mode='rgb', target_size=(80,80))\n",
        "        image=img_to_array(image)\n",
        "        image=image/255.0\n",
        "        dataset+=[[image,count]]\n",
        "        t+=1\n",
        "    count=count+1\n",
        "count=0\n",
        "for file in os.listdir(val_dir):\n",
        "    path=os.path.join(val_dir,file)\n",
        "    t=0\n",
        "    for im in os.listdir(path):\n",
        "        image=load_img(os.path.join(path,im), grayscale=False, color_mode='rgb', target_size=(80,80))\n",
        "        image=img_to_array(image)\n",
        "        image=image/255.0\n",
        "        valset+=[[image,count]]\n",
        "        t+=1\n",
        "    count=count+1"
      ],
      "metadata": {
        "id": "tmAbO_OQsT2X"
      },
      "execution_count": null,
      "outputs": []
    },
    {
      "cell_type": "code",
      "source": [
        "data,labels0=zip(*dataset)\n",
        "test,testlabels0=zip(*valset)\n",
        "labels1=to_categorical(labels0)\n",
        "labels=np.array(labels1)\n",
        "data=np.array(data)\n",
        "test=np.array(test)\n",
        "trainx,testx,trainy,testy=train_test_split(data,labels,test_size=0.2,random_state=44)\n",
        "\n",
        "print(trainx.shape)\n",
        "print(testx.shape)\n",
        "print(trainy.shape)\n",
        "print(testy.shape)"
      ],
      "metadata": {
        "colab": {
          "base_uri": "https://localhost:8080/"
        },
        "id": "7BD-wSxnmn1m",
        "outputId": "3605eb32-0123-46af-8ee8-6259bed57609"
      },
      "execution_count": null,
      "outputs": [
        {
          "output_type": "stream",
          "name": "stdout",
          "text": [
            "(2498, 80, 80, 3)\n",
            "(625, 80, 80, 3)\n",
            "(2498, 4)\n",
            "(625, 4)\n"
          ]
        }
      ]
    },
    {
      "cell_type": "code",
      "source": [
        "datagen = ImageDataGenerator(horizontal_flip=True,vertical_flip=True,rotation_range=35,zoom_range=0.7,\n",
        "                        width_shift_range=0.3,height_shift_range=0.1,shear_range=0.2,fill_mode=\"nearest\")"
      ],
      "metadata": {
        "id": "zizbeGKMr9O-"
      },
      "execution_count": null,
      "outputs": []
    },
    {
      "cell_type": "code",
      "source": [
        "model = tf.keras.models.Sequential([ \n",
        "    tf.keras.layers.Conv2D(16, (3, 3), activation='relu', input_shape=(80, 80, 3)),\n",
        "    tf.keras.layers.MaxPooling2D(2, 2),\n",
        "    tf.keras.layers.Conv2D(32, (3, 3), activation='relu'),\n",
        "    tf.keras.layers.MaxPooling2D(2, 2),\n",
        "    tf.keras.layers.Conv2D(64, (3, 3), activation='relu'),\n",
        "    tf.keras.layers.MaxPooling2D(2, 2),\n",
        "    tf.keras.layers.Conv2D(64, (3, 3), activation='relu'),\n",
        "    tf.keras.layers.MaxPooling2D(2, 2),\n",
        "    tf.keras.layers.Flatten(),\n",
        "    tf.keras.layers.Dense(128,activation = 'relu'),\n",
        "    tf.keras.layers.Dropout(0.2),\n",
        "    tf.keras.layers.Dense(256,activation = 'relu'),\n",
        "    tf.keras.layers.Dropout(0.3),\n",
        "    tf.keras.layers.Dense(4, activation='softmax')\n",
        "  ])\n",
        "\n",
        "model.compile(optimizer=tf.keras.optimizers.Adam(learning_rate=0.0005),\n",
        "                loss='categorical_crossentropy',\n",
        "                metrics=['accuracy'])\n",
        "\n",
        "history = model.fit(datagen.flow(trainx,trainy,batch_size=32),validation_data=(testx,testy),epochs=15)"
      ],
      "metadata": {
        "colab": {
          "base_uri": "https://localhost:8080/"
        },
        "id": "Qj35Lc9OvL7n",
        "outputId": "78685c12-c01e-4c19-aaa2-8bebfea87e0b"
      },
      "execution_count": null,
      "outputs": [
        {
          "output_type": "stream",
          "name": "stdout",
          "text": [
            "Epoch 1/15\n",
            "79/79 [==============================] - 19s 230ms/step - loss: 1.3264 - accuracy: 0.4027 - val_loss: 1.2767 - val_accuracy: 0.4320\n",
            "Epoch 2/15\n",
            "79/79 [==============================] - 18s 225ms/step - loss: 1.2342 - accuracy: 0.4540 - val_loss: 1.2541 - val_accuracy: 0.4384\n",
            "Epoch 3/15\n",
            "79/79 [==============================] - 18s 221ms/step - loss: 1.2050 - accuracy: 0.4604 - val_loss: 1.0687 - val_accuracy: 0.5712\n",
            "Epoch 4/15\n",
            "79/79 [==============================] - 17s 220ms/step - loss: 1.1572 - accuracy: 0.5076 - val_loss: 1.1299 - val_accuracy: 0.5248\n",
            "Epoch 5/15\n",
            "79/79 [==============================] - 18s 222ms/step - loss: 1.1311 - accuracy: 0.5208 - val_loss: 1.0567 - val_accuracy: 0.5776\n",
            "Epoch 6/15\n",
            "79/79 [==============================] - 18s 228ms/step - loss: 1.1323 - accuracy: 0.5296 - val_loss: 1.0523 - val_accuracy: 0.5616\n",
            "Epoch 7/15\n",
            "79/79 [==============================] - 18s 227ms/step - loss: 1.0974 - accuracy: 0.5472 - val_loss: 1.0482 - val_accuracy: 0.5648\n",
            "Epoch 8/15\n",
            "79/79 [==============================] - 18s 223ms/step - loss: 1.0965 - accuracy: 0.5460 - val_loss: 1.0298 - val_accuracy: 0.5776\n",
            "Epoch 9/15\n",
            "79/79 [==============================] - 18s 228ms/step - loss: 1.0676 - accuracy: 0.5629 - val_loss: 1.0084 - val_accuracy: 0.5888\n",
            "Epoch 10/15\n",
            "79/79 [==============================] - 18s 227ms/step - loss: 1.0650 - accuracy: 0.5645 - val_loss: 1.0085 - val_accuracy: 0.5936\n",
            "Epoch 11/15\n",
            "79/79 [==============================] - 21s 265ms/step - loss: 1.0580 - accuracy: 0.5737 - val_loss: 1.0205 - val_accuracy: 0.5840\n",
            "Epoch 12/15\n",
            "79/79 [==============================] - 18s 226ms/step - loss: 1.0596 - accuracy: 0.5673 - val_loss: 1.0062 - val_accuracy: 0.5952\n",
            "Epoch 13/15\n",
            "79/79 [==============================] - 18s 221ms/step - loss: 1.0674 - accuracy: 0.5689 - val_loss: 0.9948 - val_accuracy: 0.5920\n",
            "Epoch 14/15\n",
            "79/79 [==============================] - 18s 226ms/step - loss: 1.0583 - accuracy: 0.5677 - val_loss: 0.9993 - val_accuracy: 0.5904\n",
            "Epoch 15/15\n",
            "79/79 [==============================] - 18s 233ms/step - loss: 1.0479 - accuracy: 0.5673 - val_loss: 0.9981 - val_accuracy: 0.5952\n"
          ]
        }
      ]
    },
    {
      "cell_type": "code",
      "source": [
        " model.summary()"
      ],
      "metadata": {
        "colab": {
          "base_uri": "https://localhost:8080/"
        },
        "id": "P_gHFN295dmu",
        "outputId": "76154bdc-a0e5-4a3e-fe72-7b170a74bdc2"
      },
      "execution_count": null,
      "outputs": [
        {
          "output_type": "stream",
          "name": "stdout",
          "text": [
            "Model: \"sequential\"\n",
            "_________________________________________________________________\n",
            " Layer (type)                Output Shape              Param #   \n",
            "=================================================================\n",
            " conv2d (Conv2D)             (None, 78, 78, 16)        448       \n",
            "                                                                 \n",
            " max_pooling2d (MaxPooling2D  (None, 39, 39, 16)       0         \n",
            " )                                                               \n",
            "                                                                 \n",
            " conv2d_1 (Conv2D)           (None, 37, 37, 32)        4640      \n",
            "                                                                 \n",
            " max_pooling2d_1 (MaxPooling  (None, 18, 18, 32)       0         \n",
            " 2D)                                                             \n",
            "                                                                 \n",
            " conv2d_2 (Conv2D)           (None, 16, 16, 64)        18496     \n",
            "                                                                 \n",
            " max_pooling2d_2 (MaxPooling  (None, 8, 8, 64)         0         \n",
            " 2D)                                                             \n",
            "                                                                 \n",
            " conv2d_3 (Conv2D)           (None, 6, 6, 64)          36928     \n",
            "                                                                 \n",
            " max_pooling2d_3 (MaxPooling  (None, 3, 3, 64)         0         \n",
            " 2D)                                                             \n",
            "                                                                 \n",
            " flatten (Flatten)           (None, 576)               0         \n",
            "                                                                 \n",
            " dense (Dense)               (None, 128)               73856     \n",
            "                                                                 \n",
            " dropout (Dropout)           (None, 128)               0         \n",
            "                                                                 \n",
            " dense_1 (Dense)             (None, 256)               33024     \n",
            "                                                                 \n",
            " dropout_1 (Dropout)         (None, 256)               0         \n",
            "                                                                 \n",
            " dense_2 (Dense)             (None, 4)                 1028      \n",
            "                                                                 \n",
            "=================================================================\n",
            "Total params: 168,420\n",
            "Trainable params: 168,420\n",
            "Non-trainable params: 0\n",
            "_________________________________________________________________\n"
          ]
        }
      ]
    },
    {
      "cell_type": "code",
      "source": [
        "image=load_img(\"/content/drive/MyDrive/RiceLeafs/validation/BrownSpot/IMG_20190419_113242.jpg\",target_size=(80,80))\n",
        "\n",
        "image=img_to_array(image) \n",
        "image=image/255.0\n",
        "prediction_image=np.array(image)\n",
        "prediction_image= np.expand_dims(image, axis=0)\n",
        "prediction=model.predict(prediction_image)\n",
        "value=np.argmax(prediction)\n",
        "move_name=mapper(value)\n",
        "print(\"Prediction is {}.\".format(move_name))"
      ],
      "metadata": {
        "colab": {
          "base_uri": "https://localhost:8080/"
        },
        "id": "m7rxPsSwwrlg",
        "outputId": "e0400d86-9905-464e-b36b-559789a15ea7"
      },
      "execution_count": null,
      "outputs": [
        {
          "output_type": "stream",
          "name": "stdout",
          "text": [
            "Prediction is LeafBlast.\n"
          ]
        }
      ]
    },
    {
      "cell_type": "code",
      "source": [
        ""
      ],
      "metadata": {
        "id": "pfY4QM0r03-l"
      },
      "execution_count": null,
      "outputs": []
    }
  ]
}